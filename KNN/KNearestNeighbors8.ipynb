{
 "cells": [
  {
   "cell_type": "code",
   "execution_count": 1,
   "metadata": {},
   "outputs": [],
   "source": [
    "import pandas as pd"
   ]
  },
  {
   "cell_type": "code",
   "execution_count": 3,
   "metadata": {},
   "outputs": [],
   "source": [
    "no_metro = pd.read_csv('../Data/clean-metro-sales-aux-exc.csv', low_memory = False)"
   ]
  },
  {
   "cell_type": "code",
   "execution_count": 4,
   "metadata": {},
   "outputs": [
    {
     "data": {
      "text/plain": [
       "Index(['funding_status', 'school_charter', 'school_magnet', 'school_kipp',\n",
       "       'school_nlns', 'school_year_round', 'school_charter_ready_promise',\n",
       "       'teacher_prefix', 'teacher_teach_for_america',\n",
       "       'teacher_ny_teaching_fellow', 'primary_focus_subject',\n",
       "       'primary_focus_area', 'resource_type', 'poverty_level', 'grade_level',\n",
       "       'total_price_excluding_optional_support',\n",
       "       'total_price_including_optional_support', 'students_reached',\n",
       "       'total_donations', 'num_donors', 'eligible_double_your_impact_match',\n",
       "       'eligible_almost_home_match'],\n",
       "      dtype='object')"
      ]
     },
     "execution_count": 4,
     "metadata": {},
     "output_type": "execute_result"
    }
   ],
   "source": [
    "no_metro.columns"
   ]
  },
  {
   "cell_type": "code",
   "execution_count": 5,
   "metadata": {},
   "outputs": [],
   "source": [
    "no_metro = no_metro[['funding_status', 'poverty_level', 'grade_level', 'total_price_excluding_optional_support', 'total_price_including_optional_support']]"
   ]
  },
  {
   "cell_type": "code",
   "execution_count": 6,
   "metadata": {},
   "outputs": [],
   "source": [
    "X = no_metro.drop('funding_status', axis=1)\n",
    "y = no_metro['funding_status']"
   ]
  },
  {
   "cell_type": "code",
   "execution_count": 7,
   "metadata": {},
   "outputs": [],
   "source": [
    "from sklearn.model_selection import train_test_split\n",
    "\n",
    "X_train, X_test, y_train, y_test = train_test_split(X, y, random_state=1, stratify=y)"
   ]
  },
  {
   "cell_type": "code",
   "execution_count": 8,
   "metadata": {},
   "outputs": [
    {
     "name": "stdout",
     "output_type": "stream",
     "text": [
      "k: 1, Train/Test Score: 0.8501663881829287/0.6189324478018506\n",
      "k: 3, Train/Test Score: 0.7842453090701451/0.6523329448602199\n",
      "k: 5, Train/Test Score: 0.7591536902605578/0.6683750122860472\n",
      "k: 7, Train/Test Score: 0.7471554875337574/0.6784952049312684\n",
      "k: 9, Train/Test Score: 0.7393836850653149/0.6844451621056179\n",
      "k: 11, Train/Test Score: 0.7346143585279209/0.688668052064758\n",
      "k: 13, Train/Test Score: 0.7312081981868135/0.6912762043836617\n",
      "k: 15, Train/Test Score: 0.7285871747707775/0.6942985720102781\n",
      "k: 17, Train/Test Score: 0.7264868457387308/0.6959168199497325\n",
      "k: 19, Train/Test Score: 0.724948164581549/0.6973630632275095\n"
     ]
    }
   ],
   "source": [
    "#K Nearest Neighbors\n",
    "from sklearn.neighbors import KNeighborsClassifier\n",
    "\n",
    "#To assign KNN, we loop through different k values to see which has the highest accuracy\n",
    "train_scores = []\n",
    "test_scores = []\n",
    "\n",
    "for k in range(1, 20, 2):\n",
    "    knn = KNeighborsClassifier(n_neighbors = k)\n",
    "    knn.fit(X_train, y_train)\n",
    "    train_score = knn.score(X_train, y_train)\n",
    "    test_score = knn.score(X_test, y_test)\n",
    "    train_scores.append(train_score)\n",
    "    test_scores.append(test_score)\n",
    "    print(f'k: {k}, Train/Test Score: {train_score}/{test_score}')\n",
    "\n",
    "  "
   ]
  },
  {
   "cell_type": "code",
   "execution_count": 11,
   "metadata": {},
   "outputs": [
    {
     "data": {
      "image/png": "[encoded data removed]",
      "text/plain": [
       "<Figure size 432x288 with 1 Axes>"
      ]
     },
     "metadata": {
      "needs_background": "light"
     },
     "output_type": "display_data"
    }
   ],
   "source": [
    "import matplotlib.pyplot as plt    \n",
    "#You can also plot it if you want to have a look at it\n",
    "plt.plot(range(1, 20, 2), train_scores, marker='o')\n",
    "plt.plot(range(1, 20, 2), test_scores, marker=\"x\")\n",
    "plt.xlabel(\"k neighbors\")\n",
    "plt.ylabel(\"Testing accuracy Score\")\n",
    "plt.show()"
   ]
  },
  {
   "cell_type": "code",
   "execution_count": 12,
   "metadata": {},
   "outputs": [
    {
     "name": "stdout",
     "output_type": "stream",
     "text": [
      "k=9 Test Acc: 0.697\n"
     ]
    }
   ],
   "source": [
    "#We predict using the value of k where train and test converge\n",
    "knn = KNeighborsClassifier(n_neighbors=19)\n",
    "knn.fit(X_train, y_train)\n",
    "print('k=9 Test Acc: %.3f' % knn.score(X_test, y_test))"
   ]
  },
  {
   "cell_type": "code",
   "execution_count": 14,
   "metadata": {},
   "outputs": [
    {
     "data": {
      "text/plain": [
       "-0.43930092158517464"
      ]
     },
     "execution_count": 14,
     "metadata": {},
     "output_type": "execute_result"
    }
   ],
   "source": [
    "#Measure model\n",
    "from sklearn.metrics import mean_squared_error, r2_score\n",
    "\n",
    "#Predict a value\n",
    "predicted = knn.predict(X_test)\n",
    "\n",
    "mse = mean_squared_error(y_test, predicted)\n",
    "\n",
    "r2 = r2_score(y_test, predicted)\n",
    "r2"
   ]
  },
  {
   "cell_type": "code",
   "execution_count": 15,
   "metadata": {},
   "outputs": [
    {
     "data": {
      "text/plain": [
       "0.3026369367724905"
      ]
     },
     "execution_count": 15,
     "metadata": {},
     "output_type": "execute_result"
    }
   ],
   "source": [
    "mse"
   ]
  },
  {
   "cell_type": "code",
   "execution_count": null,
   "metadata": {},
   "outputs": [],
   "source": []
  }
 ],
 "metadata": {
  "kernelspec": {
   "display_name": "Python 3",
   "language": "python",
   "name": "python3"
  }
 },
 "nbformat": 4,
 "nbformat_minor": 2
}
